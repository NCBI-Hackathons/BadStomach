{
 "cells": [
  {
   "cell_type": "code",
   "execution_count": 8,
   "metadata": {},
   "outputs": [
    {
     "data": {
      "text/plain": [
       "32512"
      ]
     },
     "execution_count": 8,
     "metadata": {},
     "output_type": "execute_result"
    }
   ],
   "source": [
    "from os import system\n",
    "import os\n",
    "\n",
    "system('source activate picrustenv')\n",
    "system('biom convert -i otu_counts.txt -o otu_table.biom --to-hdf5 --process-obs-metadata taxonomy')\n",
    "system('normalize_by_copy_number.py -i testout.biom -o normalized.biom')\n",
    "system('predict_metagenomes -i normalized.biom -o metagenomes.biom')\n",
    "system('categorize_by_function -i metagenomes.biom -o pathways.biom -c KEGG_Pathways -l 3')"
   ]
  },
  {
   "cell_type": "code",
   "execution_count": null,
   "metadata": {},
   "outputs": [],
   "source": []
  }
 ],
 "metadata": {
  "kernelspec": {
   "display_name": "Python 2 (PICRUSt)",
   "language": "python",
   "name": "picrustenv"
  },
  "language_info": {
   "codemirror_mode": {
    "name": "ipython",
    "version": 2
   },
   "file_extension": ".py",
   "mimetype": "text/x-python",
   "name": "python",
   "nbconvert_exporter": "python",
   "pygments_lexer": "ipython2",
   "version": "2.7.15"
  }
 },
 "nbformat": 4,
 "nbformat_minor": 2
}
