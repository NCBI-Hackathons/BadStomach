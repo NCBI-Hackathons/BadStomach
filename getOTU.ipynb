{
 "cells": [
  {
   "cell_type": "code",
   "execution_count": null,
   "metadata": {},
   "outputs": [],
   "source": [
    "#User Input\n",
    "#lib_type = \"single_end\"\n",
    "#seq_platform = \"illumina\"\n",
    "#read_length = 100"
   ]
  },
  {
   "cell_type": "code",
   "execution_count": null,
   "metadata": {},
   "outputs": [
    {
     "name": "stderr",
     "output_type": "stream",
     "text": [
      "Bioconductor version 3.6 (BiocInstaller 1.28.0), ?biocLite for help\n",
      "A new version of Bioconductor is available after installing the most recent\n",
      "  version of R; see http://bioconductor.org/install\n",
      "BioC_mirror: https://bioconductor.org\n",
      "Using Bioconductor 3.6 (BiocInstaller 1.28.0), R 3.4.4 (2018-03-15).\n",
      "Installing package(s) ‘themetagenomics’\n",
      "also installing the dependencies ‘coda’, ‘bindr’, ‘extrafontdb’, ‘Rttf2pt1’, ‘statnet.common’, ‘reticulate’, ‘ISOcodes’, ‘yaml’, ‘tidyselect’, ‘bindrcpp’, ‘plogr’, ‘extrafont’, ‘fastmatch’, ‘ggrepel’, ‘lubridate’, ‘network’, ‘RSpectra’, ‘sna’, ‘SnowballC’, ‘spacyr’, ‘stopwords’, ‘xml2’, ‘minqa’, ‘nloptr’, ‘RcppEigen’, ‘htmlwidgets’, ‘tidyr’, ‘hexbin’, ‘dplyr’, ‘crosstalk’, ‘purrr’, ‘StanHeaders’, ‘inline’, ‘gridExtra’, ‘slam’, ‘quanteda’, ‘glmnet’, ‘quadprog’, ‘RcppArmadillo’, ‘lda’, ‘lme4’, ‘plotly’, ‘rstan’, ‘stm’\n",
      "\n"
     ]
    }
   ],
   "source": [
    "source(\"https://bioconductor.org/biocLite.R\")\n",
    "#biocLite(\"dada2\")\n",
    "#install.packages(\"phyloseq\")\n",
    "#biocLite(\"biom\")\n",
    "biocLite(\"themetagenomics\")"
   ]
  },
  {
   "cell_type": "code",
   "execution_count": null,
   "metadata": {},
   "outputs": [],
   "source": [
    "library(\"dada2\")\n",
    "library(\"phyloseq\")\n",
    "library(\"biom\")\n",
    "library(\"themetagenomics\")"
   ]
  },
  {
   "cell_type": "code",
   "execution_count": null,
   "metadata": {},
   "outputs": [],
   "source": [
    "#Read in files\n",
    "\n",
    "input_files = c(\"../ERR520895.fastq\", \"../ERR521461.fastq\")\n",
    "file_names = c(\"ERR520895\", \"ERR521461\")"
   ]
  },
  {
   "cell_type": "code",
   "execution_count": null,
   "metadata": {},
   "outputs": [],
   "source": [
    "#Plot quality profiles of files\n",
    "\n",
    "plotQualityProfile(input_files)"
   ]
  },
  {
   "cell_type": "code",
   "execution_count": null,
   "metadata": {},
   "outputs": [],
   "source": [
    "#Filter and Trim the reads\n",
    "\n",
    "filtFs = paste0(file_names,\"_filt.fastq\")\n",
    "filterAndTrim(input_files, filtFs, compress=TRUE, verbose=TRUE, multithread=TRUE)\n",
    "plotQualityProfile(filtFs)"
   ]
  },
  {
   "cell_type": "code",
   "execution_count": null,
   "metadata": {},
   "outputs": [],
   "source": [
    "#Parse filtered files to learn error rates, infer sequence variants and construct a seq-table\n",
    "\n",
    "#filtered_files = list.files(filtpath, pattern=\"fastq.gz\", full.names=TRUE)\n",
    "#samples = sapply(basename(filtFs))\n",
    "#names(filtFs) = basename(input_files)\n",
    "\n",
    "error_rates = learnErrors(filtFs, multithread=TRUE, randomize=TRUE)\n",
    "plotErrors(error_rates, nominalQ=TRUE)\n"
   ]
  },
  {
   "cell_type": "code",
   "execution_count": null,
   "metadata": {},
   "outputs": [],
   "source": [
    "seq_variants = vector(\"list\", length(file_names))\n",
    "names(seq_variants) = filtFs\n",
    "\n",
    "for (i in filtFs){\n",
    "    #dereplicated = derepFastq(filtFs[[i]])\n",
    "    dereplicated = derepFastq(i)\n",
    "    seq_variants[[i]] = dada(dereplicated, err=error_rates, multithread=TRUE)}\n",
    "    \n",
    "sequence_table = makeSequenceTable(seq_variants)"
   ]
  },
  {
   "cell_type": "code",
   "execution_count": null,
   "metadata": {},
   "outputs": [],
   "source": [
    "#Remove chimeras and assign taxonomy\n",
    "system(\"wget https://zenodo.org/record/158955/files/gg_13_8_train_set_97.fa.gz?download=1\")\n",
    "sequence_table = removeBimeraDenovo(sequence_table, method=\"consensus\", multithread=TRUE)\n",
    "taxa_assign = assignTaxonomy(sequence_table, \"gg_13_8_train_set_97.fa.gz\", multithread=TRUE)\n",
    "\n"
   ]
  },
  {
   "cell_type": "code",
   "execution_count": null,
   "metadata": {},
   "outputs": [],
   "source": [
    "#Create Metadata and Get OTU Table\n",
    "\n",
    "otu = otu_table(sequence_table, taxa_are_rows=FALSE)\n"
   ]
  },
  {
   "cell_type": "code",
   "execution_count": null,
   "metadata": {},
   "outputs": [],
   "source": [
    "#Get pathway annotation using picrust\n",
    "\n",
    "tmp = tempdir()\n",
    "download_ref(tmp,reference='gg_ko',overwrite=FALSE)\n",
    "system.time(FUNCTIONS <- picrust(otu,rows_are_taxa=FALSE,\n",
    "                                 reference='gg_ko',reference_path=tmp,\n",
    "                                 cn_normalize=TRUE,sample_normalize=FALSE,\n",
    "                                 drop=TRUE))"
   ]
  },
  {
   "cell_type": "code",
   "execution_count": null,
   "metadata": {},
   "outputs": [],
   "source": []
  }
 ],
 "metadata": {
  "kernelspec": {
   "display_name": "R",
   "language": "R",
   "name": "ir"
  },
  "language_info": {
   "codemirror_mode": "r",
   "file_extension": ".r",
   "mimetype": "text/x-r-source",
   "name": "R",
   "pygments_lexer": "r",
   "version": "3.4.4"
  }
 },
 "nbformat": 4,
 "nbformat_minor": 2
}
