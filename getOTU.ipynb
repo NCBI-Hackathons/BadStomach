{
 "cells": [
  {
   "cell_type": "code",
   "execution_count": 6,
   "metadata": {},
   "outputs": [],
   "source": [
    "#User Input\n",
    "lib_type = \"single_end\"\n",
    "seq_platform = \"illumina\"\n",
    "read_length = 100"
   ]
  },
  {
   "cell_type": "code",
   "execution_count": 5,
   "metadata": {},
   "outputs": [
    {
     "name": "stderr",
     "output_type": "stream",
     "text": [
      "Bioconductor version 3.6 (BiocInstaller 1.28.0), ?biocLite for help\n",
      "A new version of Bioconductor is available after installing the most recent\n",
      "  version of R; see http://bioconductor.org/install\n",
      "BioC_mirror: https://bioconductor.org\n",
      "Using Bioconductor 3.6 (BiocInstaller 1.28.0), R 3.4.4 (2018-03-15).\n",
      "Installing package(s) ‘dada2’\n",
      "also installing the dependencies ‘formatR’, ‘matrixStats’, ‘colorspace’, ‘assertthat’, ‘utf8’, ‘lambda.r’, ‘futile.options’, ‘DelayedArray’, ‘RColorBrewer’, ‘dichromat’, ‘munsell’, ‘labeling’, ‘cli’, ‘pillar’, ‘futile.logger’, ‘snow’, ‘bitops’, ‘SummarizedExperiment’, ‘RCurl’, ‘GenomeInfoDbData’, ‘BiocGenerics’, ‘S4Vectors’, ‘IRanges’, ‘XVector’, ‘gtable’, ‘lazyeval’, ‘plyr’, ‘rlang’, ‘scales’, ‘tibble’, ‘viridisLite’, ‘BiocParallel’, ‘Rsamtools’, ‘GenomicAlignments’, ‘Biobase’, ‘GenomeInfoDb’, ‘GenomicRanges’, ‘hwriter’, ‘zlibbioc’, ‘latticeExtra’, ‘BH’, ‘Biostrings’, ‘ggplot2’, ‘data.table’, ‘reshape2’, ‘ShortRead’, ‘RcppParallel’\n",
      "\n",
      "installation path not writeable, unable to update packages: cluster, foreign,\n",
      "  MASS, Matrix, mgcv, nlme, survival\n",
      "Old packages: 'curl', 'devtools', 'git2r', 'httpuv', 'openssl', 'shiny',\n",
      "  'sourcetools', 'withr'\n",
      "BioC_mirror: https://bioconductor.org\n",
      "Using Bioconductor 3.6 (BiocInstaller 1.28.0), R 3.4.4 (2018-03-15).\n",
      "Installing package(s) ‘phyloseq’\n",
      "also installing the dependencies ‘rhdf5’, ‘iterators’, ‘pkgconfig’, ‘permute’, ‘ade4’, ‘ape’, ‘biomformat’, ‘foreach’, ‘igraph’, ‘multtest’, ‘vegan’\n",
      "\n",
      "Warning message in install.packages(pkgs = doing, lib = lib, ...):\n",
      "“installation of package ‘igraph’ had non-zero exit status”Warning message in install.packages(pkgs = doing, lib = lib, ...):\n",
      "“installation of package ‘phyloseq’ had non-zero exit status”installation path not writeable, unable to update packages: cluster, foreign,\n",
      "  MASS, Matrix, mgcv, nlme, survival\n",
      "Old packages: 'curl', 'devtools', 'git2r', 'httpuv', 'openssl', 'shiny',\n",
      "  'sourcetools', 'withr'\n",
      "BioC_mirror: https://bioconductor.org\n",
      "Using Bioconductor 3.6 (BiocInstaller 1.28.0), R 3.4.4 (2018-03-15).\n",
      "Installing package(s) ‘biom’\n",
      "Warning message:\n",
      "“package ‘biom’ is not available (for R version 3.4.4)”installation path not writeable, unable to update packages: cluster, foreign,\n",
      "  MASS, Matrix, mgcv, nlme, survival\n",
      "Old packages: 'curl', 'devtools', 'git2r', 'httpuv', 'openssl', 'shiny',\n",
      "  'sourcetools', 'withr'\n"
     ]
    }
   ],
   "source": [
    "source(\"https://bioconductor.org/biocLite.R\")\n",
    "biocLite(\"dada2\")\n",
    "biocLite(\"phyloseq\")\n",
    "biocLite(\"biom\")"
   ]
  },
  {
   "cell_type": "code",
   "execution_count": null,
   "metadata": {},
   "outputs": [],
   "source": [
    "library(\"dada2\")\n",
    "library(\"phylogen\")\n",
    "library(\"biom\")"
   ]
  },
  {
   "cell_type": "code",
   "execution_count": 3,
   "metadata": {},
   "outputs": [
    {
     "ename": "ERROR",
     "evalue": "Error in library(\"biom\"): there is no package called ‘biom’\n",
     "execution_count": 3,
     "output_type": "error",
     "traceback": [
      "Error in library(\"biom\"): there is no package called ‘biom’\nTraceback:\n",
      "1. library(\"biom\")",
      "2. stop(txt, domain = NA)"
     ]
    }
   ],
   "source": [
    "#Read in files\n",
    "path = \"./\"\n",
    "filtpath = file.path(path, \"filtered\")\n",
    "input_files = list.files(path, pattern=\"fastq.gz\")"
   ]
  },
  {
   "cell_type": "code",
   "execution_count": null,
   "metadata": {},
   "outputs": [],
   "source": [
    "#Plot quality profiles of files\n",
    "plotQualityProfile(input_files)"
   ]
  },
  {
   "cell_type": "code",
   "execution_count": null,
   "metadata": {},
   "outputs": [],
   "source": [
    "#Filter and Trim the reads\n",
    "filterAndTrim(file.path(path, input_files), file.path(filtpath, input_files), compress=TRUE, verbose=TRUE, multithread=TRUE)"
   ]
  },
  {
   "cell_type": "code",
   "execution_count": null,
   "metadata": {},
   "outputs": [],
   "source": [
    "#Parse filtered files to learn error rates, infer sequence variants and construct a seq-table\n",
    "filtered_files = list.files(filtpath, pattern=\"fastq.gz\", full.names=TRUE)\n",
    "samples = sapply(basename(filtered_files))\n",
    "names(filtered_files) = samples\n",
    "\n",
    "error_rates = learnErrors(filtered_files, nbases=1e8, multithread=TRUE, randomize=TRUE)\n",
    "plotErrors(error_rates, nominalQ=TRUE)\n"
   ]
  },
  {
   "cell_type": "code",
   "execution_count": null,
   "metadata": {},
   "outputs": [],
   "source": [
    "seq_variants = vector(\"list\", length(samples))\n",
    "names(seq_variants) = samples\n",
    "\n",
    "for i in samples:\n",
    "    dereplicated = derepFastq(filtered_files[[i]])\n",
    "    seq_variants[[i]] = dada(dereplicated, err=error_rates, multithread=TRUE)\n",
    "    \n",
    "sequence_table = makeSequenceTable(seq_variants)"
   ]
  },
  {
   "cell_type": "code",
   "execution_count": null,
   "metadata": {},
   "outputs": [],
   "source": [
    "#Remove chimeras and assign taxonomy\n",
    "\n",
    "sequence_table = removeBimeraDenovo(sequence_table, method=\"consensus\", multithread=TRUE)\n",
    "taxa_assign = assignTaxonomy(sequence_table, \"gg_13_8_train_set_97.fa.gz\", multithread=TRUE)\n",
    "\n"
   ]
  },
  {
   "cell_type": "code",
   "execution_count": null,
   "metadata": {},
   "outputs": [],
   "source": [
    "#Get OTU Table\n",
    "\n",
    "otu_table = otu_table(sequence_table, taxa_are_rows=FALSE)\n"
   ]
  }
 ],
 "metadata": {
  "kernelspec": {
   "display_name": "R",
   "language": "R",
   "name": "ir"
  },
  "language_info": {
   "codemirror_mode": "r",
   "file_extension": ".r",
   "mimetype": "text/x-r-source",
   "name": "R",
   "pygments_lexer": "r",
   "version": "3.4.4"
  }
 },
 "nbformat": 4,
 "nbformat_minor": 2
}
