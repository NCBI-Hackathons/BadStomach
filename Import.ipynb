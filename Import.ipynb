{
 "cells": [
  {
   "cell_type": "markdown",
   "metadata": {},
   "source": [
    "## Data Import Script\n",
    "\n",
    "This script requests the Accessions and downloads all of the relevant fastq files for a given SRA project"
   ]
  },
  {
   "cell_type": "code",
   "execution_count": 123,
   "metadata": {},
   "outputs": [],
   "source": [
    "from Bio import Entrez\n",
    "\n",
    "# Change to SRA Project ID of interest\n",
    "sra_project=\"ERP019762\"\n",
    "# Change to email address to allow NCBI contact \n",
    "Entrez.email = \"A.N.Other@example.com\"  \n",
    "\n",
    "# Request all IDs associated with the SRA Project ID of interest. (Up to 10,000)\n",
    "handle = Entrez.esearch(db=\"sra\", term=sra_project, retmax=10000)\n",
    "record = Entrez.read(handle)\n",
    "id_list = record['IdList']"
   ]
  },
  {
   "cell_type": "code",
   "execution_count": 128,
   "metadata": {},
   "outputs": [],
   "source": [
    "from subprocess import call\n",
    "\n",
    "# For each SRA Record identifier, request a summary file\n",
    "for sra_id in id_list:\n",
    "    \n",
    "    net_handle = Entrez.esummary(db=\"sra\", id=sra_id)\n",
    "    parsed = Entrez.parse(net_handle)\n",
    "    net_handle.close()\n",
    "    \n",
    "    # Parse the summary file, to extract the run accession\n",
    "    for parsed_record in parsed:\n",
    "        accession = parsed_record['Runs'][10:20]\n",
    "        filename = \"rawdata/\" + accession + \".fastq\"\n",
    "        \n",
    "        # If a fastq file for the run accession hasn't already been downloaded, run fastq-dump to download the relevant file. \n",
    "        if not os.path.isfile(filename):\n",
    "            call(\"fastq-dump --outdir rawdata {}\".format(accession), shell=True)"
   ]
  }
 ],
 "metadata": {
  "kernelspec": {
   "display_name": "Python 3",
   "language": "python",
   "name": "python3"
  },
  "language_info": {
   "codemirror_mode": {
    "name": "ipython",
    "version": 3
   },
   "file_extension": ".py",
   "mimetype": "text/x-python",
   "name": "python",
   "nbconvert_exporter": "python",
   "pygments_lexer": "ipython3",
   "version": "3.6.5"
  }
 },
 "nbformat": 4,
 "nbformat_minor": 2
}
