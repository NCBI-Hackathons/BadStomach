{
 "cells": [
  {
   "cell_type": "markdown",
   "metadata": {},
   "source": [
    "## Download all the necessary Data"
   ]
  },
  {
   "cell_type": "code",
   "execution_count": 3,
   "metadata": {},
   "outputs": [
    {
     "data": {
      "text/plain": [
       "{'Count': '196', 'RetMax': '20', 'RetStart': '0', 'IdList': ['3784394', '3784393', '3784392', '3784391', '3784390', '3784389', '3784388', '3784387', '3784386', '3784385', '3784384', '3784383', '3784382', '3784381', '3784380', '3784379', '3784378', '3784377', '3784376', '3784375'], 'TranslationSet': [], 'TranslationStack': [{'Term': 'ERP019762[All Fields]', 'Field': 'All Fields', 'Count': '196', 'Explode': 'N'}, 'GROUP'], 'QueryTranslation': 'ERP019762[All Fields]'}"
      ]
     },
     "execution_count": 3,
     "metadata": {},
     "output_type": "execute_result"
    }
   ],
   "source": [
    "from Bio import Entrez\n",
    "\n",
    "Entrez.email = \"A.N.Other@example.com\"     # Always tell NCBI who you are\n",
    "handle = Entrez.esearch(db=\"sra\", term=\"ERP019762\")\n",
    "record = Entrez.read(handle)\n",
    "id_list = "
   ]
  },
  {
   "cell_type": "code",
   "execution_count": 19,
   "metadata": {
    "pixiedust": {
     "displayParams": {}
    }
   },
   "outputs": [
    {
     "data": {
      "text/plain": [
       "'<Run acc=\"ERR1865069\" total_spots=\"36358\" total_bases=\"10980116\" load_done=\"true\" is_public=\"true\" cluster_name=\"public\" static_data_available=\"true\"/>'"
      ]
     },
     "execution_count": 19,
     "metadata": {},
     "output_type": "execute_result"
    }
   ],
   "source": [
    "handle2 = Entrez.esummary(db=\"sra\", id=\"3784383\")\n",
    "record2 = Entrez.read(handle2)\n",
    "record2[0]['Runs']"
   ]
  },
  {
   "cell_type": "code",
   "execution_count": 13,
   "metadata": {},
   "outputs": [
    {
     "data": {
      "text/plain": [
       "'<?xml version=\"1.0\"  ?>\\n<EXPERIMENT_PACKAGE_SET>\\n<EXPERIMENT_PACKAGE><EXPERIMENT alias=\"ena-EXPERIMENT-DUKE UNIV-03-03-2017-00:19:01:314-87\" center_name=\"DUKE UNIV\" accession=\"ERX1925956\" broker_name=\"\"><IDENTIFIERS><PRIMARY_ID>ERX1925956</PRIMARY_ID></IDENTIFIERS><TITLE>Illumina MiSeq paired end sequencing</TITLE><STUDY_REF accession=\"ERP019762\"><IDENTIFIERS><PRIMARY_ID>ERP019762</PRIMARY_ID></IDENTIFIERS></STUDY_REF><DESIGN><DESIGN_DESCRIPTION/><SAMPLE_DESCRIPTOR accession=\"ERS1462942\"><IDENTIFIERS><PRIMARY_ID>ERS1462942</PRIMARY_ID><EXTERNAL_ID namespace=\"BioSample\">SAMEA18620668</EXTERNAL_ID></IDENTIFIERS></SAMPLE_DESCRIPTOR><LIBRARY_DESCRIPTOR><LIBRARY_NAME>unspecified</LIBRARY_NAME><LIBRARY_STRATEGY>AMPLICON</LIBRARY_STRATEGY><LIBRARY_SOURCE>METAGENOMIC</LIBRARY_SOURCE><LIBRARY_SELECTION>PCR</LIBRARY_SELECTION><LIBRARY_LAYOUT><PAIRED NOMINAL_LENGTH=\"151\"/></LIBRARY_LAYOUT></LIBRARY_DESCRIPTOR></DESIGN><PLATFORM><ILLUMINA><INSTRUMENT_MODEL>Illumina MiSeq</INSTRUMENT_MODEL></ILLUMINA></PLATFORM></EXPERIMENT><SUBMISSION alias=\"ena-SUBMISSION-DUKE UNIV-03-03-2017-00:17:42:947-1\" center_name=\"DUKE UNIV\" accession=\"ERA828937\" lab_name=\"European Nucleotide Archive\"><IDENTIFIERS><PRIMARY_ID>ERA828937</PRIMARY_ID></IDENTIFIERS><TITLE>Submitted by DUKE UNIV on 03-MAR-2017</TITLE></SUBMISSION><Organization type=\"center\"><Name abbr=\"DUKE UNIV\">DUKE UNIV</Name></Organization><STUDY alias=\"ena-STUDY-DUKE UNIV-12-11-2016-19:36:06:079-1100\" center_name=\"DUKE UNIV\" accession=\"ERP019762\"><IDENTIFIERS><PRIMARY_ID>ERP019762</PRIMARY_ID><EXTERNAL_ID namespace=\"BioProject\">PRJEB17860</EXTERNAL_ID></IDENTIFIERS><DESCRIPTOR><STUDY_TITLE>Human gut microbiota predicts susceptibility to Vibrio cholerae infection</STUDY_TITLE><STUDY_TYPE existing_study_type=\"Other\"/><STUDY_ABSTRACT>Cholera continues to cause epidemics of severe diarrheal disease in the developing world. We prospectively tracked household contacts of cholera patients to examine the role of the gut microbiota in susceptibility to infection. Machine learning models constructed using human gut microbiota were a superior marker of susceptibility to infection than models built from epidemiological factors including youth, vibriocidal titer, and blood type. Predictive gut taxa were linked to subject age, however, supporting models that microbiota maturity can be linked to enteric health. Broadly, susceptibility among contacts was associated with depleted levels of microbes typically found in healthy subjects and increased levels of normally rare bacteria. One rare microbe enriched among susceptible subjects, Paracoccus aminovorans, was confirmed to promote the in vitro growth of Vibrio cholerae. Thus, cholera susceptibility may be partially characterized by the presence of bacteria that facilitate pathogen colonization. More broadly, our work provides some of the first evidence in prospective human cohorts that gut microbiota can be linked to infectious disease susceptibility.</STUDY_ABSTRACT><CENTER_PROJECT_NAME>cholera_susceptibility</CENTER_PROJECT_NAME><STUDY_DESCRIPTION>Cholera continues to cause epidemics of severe diarrheal disease in the developing world. We prospectively tracked household contacts of cholera patients to examine the role of the gut microbiota in susceptibility to infection. Machine learning models constructed using human gut microbiota were a superior marker of susceptibility to infection than models built from epidemiological factors including youth, vibriocidal titer, and blood type. Predictive gut taxa were linked to subject age, however, supporting models that microbiota maturity can be linked to enteric health. Broadly, susceptibility among contacts was associated with depleted levels of microbes typically found in healthy subjects and increased levels of normally rare bacteria. One rare microbe enriched among susceptible subjects, Paracoccus aminovorans, was confirmed to promote the in vitro growth of Vibrio cholerae. Thus, cholera susceptibility may be partially characterized by the presence of bacteria that facilitate pathogen colonization. More broadly, our work provides some of the first evidence in prospective human cohorts that gut microbiota can be linked to infectious disease susceptibility.</STUDY_DESCRIPTION></DESCRIPTOR><STUDY_ATTRIBUTES><STUDY_ATTRIBUTE><TAG>ENA-FIRST-PUBLIC</TAG><VALUE>2017-03-01</VALUE></STUDY_ATTRIBUTE><STUDY_ATTRIBUTE><TAG>ENA-LAST-UPDATE</TAG><VALUE>2016-12-14</VALUE></STUDY_ATTRIBUTE></STUDY_ATTRIBUTES></STUDY><SAMPLE alias=\"SAMEA18620668\" accession=\"ERS1462942\"><IDENTIFIERS><PRIMARY_ID>ERS1462942</PRIMARY_ID><EXTERNAL_ID namespace=\"BioSample\">SAMEA18620668</EXTERNAL_ID></IDENTIFIERS><TITLE>SMIC.064.01.Day.02</TITLE><SAMPLE_NAME><TAXON_ID>408170</TAXON_ID><SCIENTIFIC_NAME>human gut metagenome</SCIENTIFIC_NAME></SAMPLE_NAME><SAMPLE_ATTRIBUTES><SAMPLE_ATTRIBUTE><TAG>Sample Name</TAG><VALUE>ERS1462942</VALUE></SAMPLE_ATTRIBUTE><SAMPLE_ATTRIBUTE><TAG>colection date</TAG><VALUE>2013</VALUE></SAMPLE_ATTRIBUTE><SAMPLE_ATTRIBUTE><TAG>environment (biome)</TAG><VALUE>ENVO:urban biome</VALUE></SAMPLE_ATTRIBUTE><SAMPLE_ATTRIBUTE><TAG>environment (feature)</TAG><VALUE>ENVO:human-associated habitat</VALUE></SAMPLE_ATTRIBUTE><SAMPLE_ATTRIBUTE><TAG>environment (material)</TAG><VALUE>ENVO:feces</VALUE></SAMPLE_ATTRIBUTE><SAMPLE_ATTRIBUTE><TAG>geographic location (country and/or sea)</TAG><VALUE>Bangladesh</VALUE></SAMPLE_ATTRIBUTE><SAMPLE_ATTRIBUTE><TAG>human gut environmental package</TAG><VALUE>human-gut</VALUE></SAMPLE_ATTRIBUTE><SAMPLE_ATTRIBUTE><TAG>investigation type</TAG><VALUE>mimarks-survey</VALUE></SAMPLE_ATTRIBUTE><SAMPLE_ATTRIBUTE><TAG>latitude</TAG><VALUE>23.7</VALUE></SAMPLE_ATTRIBUTE><SAMPLE_ATTRIBUTE><TAG>longitude</TAG><VALUE>90.3667</VALUE></SAMPLE_ATTRIBUTE><SAMPLE_ATTRIBUTE><TAG>project name</TAG><VALUE>cholera_susceptibility</VALUE></SAMPLE_ATTRIBUTE><SAMPLE_ATTRIBUTE><TAG>sequencing method</TAG><VALUE>Illumina</VALUE></SAMPLE_ATTRIBUTE></SAMPLE_ATTRIBUTES></SAMPLE><Pool><Member member_name=\"\" accession=\"ERS1462942\" sample_name=\"SAMEA18620668\" sample_title=\"SMIC.064.01.Day.02\" spots=\"36358\" bases=\"10980116\" tax_id=\"408170\" organism=\"human gut metagenome\"><IDENTIFIERS><PRIMARY_ID>ERS1462942</PRIMARY_ID><EXTERNAL_ID namespace=\"BioSample\">SAMEA18620668</EXTERNAL_ID></IDENTIFIERS></Member></Pool><RUN_SET><RUN alias=\"ena-RUN-DUKE UNIV-03-03-2017-00:19:01:314-87\" center_name=\"DUKE UNIV\" accession=\"ERR1865069\" total_spots=\"36358\" total_bases=\"10980116\" size=\"5605643\" load_done=\"true\" published=\"2017-03-05 09:45:32\" is_public=\"true\" cluster_name=\"public\" static_data_available=\"1\"><IDENTIFIERS><PRIMARY_ID>ERR1865069</PRIMARY_ID></IDENTIFIERS><TITLE>Illumina MiSeq paired end sequencing</TITLE><EXPERIMENT_REF accession=\"ERX1925956\"><IDENTIFIERS><PRIMARY_ID>ERX1925956</PRIMARY_ID></IDENTIFIERS></EXPERIMENT_REF><RUN_ATTRIBUTES><RUN_ATTRIBUTE><TAG>ENA-FIRST-PUBLIC</TAG><VALUE>2017-03-03</VALUE></RUN_ATTRIBUTE><RUN_ATTRIBUTE><TAG>ENA-LAST-UPDATE</TAG><VALUE>2017-03-03</VALUE></RUN_ATTRIBUTE></RUN_ATTRIBUTES><Pool><Member member_name=\"\" accession=\"ERS1462942\" sample_name=\"SAMEA18620668\" sample_title=\"SMIC.064.01.Day.02\" spots=\"36358\" bases=\"10980116\" tax_id=\"408170\" organism=\"human gut metagenome\"><IDENTIFIERS><PRIMARY_ID>ERS1462942</PRIMARY_ID><EXTERNAL_ID namespace=\"BioSample\">SAMEA18620668</EXTERNAL_ID></IDENTIFIERS></Member></Pool><SRAFiles><SRAFile cluster=\"public\" filename=\"unidentified_spots_contigs.fasta\" url=\"https://sra-download.ncbi.nlm.nih.gov/traces/era18/ERZ/001865/ERR1865069/unidentified_spots_contigs.fasta\" size=\"5439\" date=\"2017-03-12 10:49:17\" md5=\"69bd245f39dfe3c7e29e183ce4a68cf5\" semantic_name=\"unknown_contigs\"/></SRAFiles><QualityCount><Quality value=\"7\" count=\"13\"/><Quality value=\"8\" count=\"2959\"/><Quality value=\"9\" count=\"10788\"/><Quality value=\"10\" count=\"90635\"/><Quality value=\"11\" count=\"205526\"/><Quality value=\"12\" count=\"6440\"/><Quality value=\"13\" count=\"3\"/><Quality value=\"14\" count=\"164\"/><Quality value=\"15\" count=\"4749\"/><Quality value=\"16\" count=\"3903\"/><Quality value=\"17\" count=\"1842\"/><Quality value=\"18\" count=\"15626\"/><Quality value=\"19\" count=\"21626\"/><Quality value=\"20\" count=\"19397\"/><Quality value=\"21\" count=\"48727\"/><Quality value=\"22\" count=\"51179\"/><Quality value=\"23\" count=\"82850\"/><Quality value=\"24\" count=\"69760\"/><Quality value=\"25\" count=\"61422\"/><Quality value=\"26\" count=\"19235\"/><Quality value=\"27\" count=\"87314\"/><Quality value=\"28\" count=\"80638\"/><Quality value=\"29\" count=\"44087\"/><Quality value=\"30\" count=\"53311\"/><Quality value=\"31\" count=\"166842\"/><Quality value=\"32\" count=\"83523\"/><Quality value=\"33\" count=\"82356\"/><Quality value=\"34\" count=\"713575\"/><Quality value=\"35\" count=\"248185\"/><Quality value=\"36\" count=\"415692\"/><Quality value=\"37\" count=\"1228461\"/><Quality value=\"38\" count=\"7059288\"/></QualityCount><Statistics nreads=\"2\" nspots=\"36358\"><Read index=\"0\" count=\"36358\" average=\"151\" stdev=\"0\"/><Read index=\"1\" count=\"36358\" average=\"151\" stdev=\"0\"/></Statistics><Bases cs_native=\"false\" count=\"10980116\"><Base value=\"A\" count=\"2350666\"/><Base value=\"C\" count=\"2890541\"/><Base value=\"G\" count=\"2942897\"/><Base value=\"T\" count=\"2796012\"/><Base value=\"N\" count=\"0\"/></Bases><tax_analysis parser_version=\"0.4\" dbs_mtime=\"2017-03-02 10:37:00.417777\" aligns_to_version=\"0.35\" dbss_name=\"tree_filter.dbss\" analyzed_spot_count=\"36358\" total_spot_count=\"36358\" dbss_mtime=\"2017-03-02 10:43:13.439246\" identified_spot_count=\"31268\" dbs_name=\"tree_index.dbs\"><taxon self_count=\"926\" tax_id=\"131567\" name=\"cellular organisms\" total_count=\"31266\"><taxon self_count=\"27789\" tax_id=\"2\" rank=\"superkingdom\" name=\"Bacteria\" total_count=\"30296\"><taxon self_count=\"102\" tax_id=\"1783272\" name=\"Terrabacteria group\" total_count=\"2485\"><taxon self_count=\"0\" tax_id=\"201174\" rank=\"phylum\" name=\"Actinobacteria\" total_count=\"351\"><taxon self_count=\"0\" tax_id=\"84998\" rank=\"class\" name=\"Coriobacteriia\" total_count=\"327\"><taxon self_count=\"295\" tax_id=\"84999\" rank=\"order\" name=\"Coriobacteriales\" total_count=\"326\"><taxon self_count=\"0\" tax_id=\"1643824\" rank=\"family\" name=\"Atopobiaceae\" total_count=\"31\"><taxon self_count=\"31\" tax_id=\"133925\" rank=\"genus\" name=\"Olsenella\" total_count=\"31\"/></taxon></taxon><taxon self_count=\"0\" tax_id=\"1643822\" rank=\"order\" name=\"Eggerthellales\" total_count=\"1\"><taxon self_count=\"0\" tax_id=\"1643826\" rank=\"family\" name=\"Eggerthellaceae\" total_count=\"1\"><taxon self_count=\"1\" tax_id=\"580024\" rank=\"genus\" name=\"Enterorhabdus\" total_count=\"1\"/></taxon></taxon></taxon><taxon self_count=\"23\" tax_id=\"1760\" rank=\"class\" name=\"Actinobacteria\" total_count=\"24\"><taxon self_count=\"0\" tax_id=\"85004\" rank=\"order\" name=\"Bifidobacteriales\" total_count=\"1\"><taxon self_count=\"0\" tax_id=\"31953\" rank=\"family\" name=\"Bifidobacteriaceae\" total_count=\"1\"><taxon self_count=\"1\" tax_id=\"2701\" rank=\"genus\" name=\"Gardnerella\" total_count=\"1\"/></taxon></taxon></taxon></taxon><taxon self_count=\"1072\" tax_id=\"1239\" rank=\"phylum\" name=\"Firmicutes\" total_count=\"2031\"><taxon self_count=\"827\" tax_id=\"91061\" rank=\"class\" name=\"Bacilli\" total_count=\"854\"><taxon self_count=\"21\" tax_id=\"186826\" rank=\"order\" name=\"Lactobacillales\" total_count=\"27\"><taxon self_count=\"0\" tax_id=\"1300\" rank=\"family\" name=\"Streptococcaceae\" total_count=\"2\"><taxon self_count=\"0\" tax_id=\"1301\" rank=\"genus\" name=\"Streptococcus\" total_count=\"2\"><taxon self_count=\"0\" tax_id=\"1313\" rank=\"species\" name=\"Streptococcus pneumoniae\" total_count=\"2\"><taxon self_count=\"2\" tax_id=\"886289\" name=\"Streptococcus pneumoniae GA17545\" total_count=\"2\"/></taxon></taxon></taxon><taxon self_count=\"0\" tax_id=\"186828\" rank=\"family\" name=\"Carnobacteriaceae\" total_count=\"3\"><taxon self_count=\"0\" tax_id=\"29393\" rank=\"genus\" name=\"Dolosigranulum\" total_count=\"3\"><taxon self_count=\"0\" tax_id=\"29394\" rank=\"species\" name=\"Dolosigranulum pigrum\" total_count=\"3\"><taxon self_count=\"3\" tax_id=\"883103\" name=\"Dolosigranulum pigrum ATCC 51524\" total_count=\"3\"/></taxon></taxon></taxon><taxon self_count=\"1\" tax_id=\"81850\" rank=\"family\" name=\"Leuconostocaceae\" total_count=\"1\"/></taxon></taxon><taxon self_count=\"0\" tax_id=\"909932\" rank=\"class\" name=\"Negativicutes\" total_count=\"20\"><taxon self_count=\"0\" tax_id=\"909929\" rank=\"order\" name=\"Selenomonadales\" total_count=\"19\"><taxon self_count=\"19\" tax_id=\"1843491\" rank=\"family\" name=\"Selenomonadaceae\" total_count=\"19\"/></taxon><taxon self_count=\"0\" tax_id=\"1843489\" rank=\"order\" name=\"Veillonellales\" total_count=\"1\"><taxon self_count=\"0\" tax_id=\"31977\" rank=\"family\" name=\"Veillonellaceae\" total_count=\"1\"><taxon self_count=\"0\" tax_id=\"29465\" rank=\"genus\" name=\"Veillonella\" total_count=\"1\"><taxon self_count=\"0\" tax_id=\"187328\" rank=\"species\" name=\"Veillonella montpellierensis\" total_count=\"1\"><taxon self_count=\"1\" tax_id=\"1401067\" name=\"Veillonella montpellierensis DNF00314\" total_count=\"1\"/></taxon></taxon></taxon></taxon></taxon><taxon self_count=\"6\" tax_id=\"186801\" rank=\"class\" name=\"Clostridia\" total_count=\"80\"><taxon self_count=\"0\" tax_id=\"186802\" rank=\"order\" name=\"Clostridiales\" total_count=\"74\"><taxon self_count=\"0\" tax_id=\"31979\" rank=\"family\" name=\"Clostridiaceae\" total_count=\"69\"><taxon self_count=\"69\" tax_id=\"1485\" rank=\"genus\" name=\"Clostridium\" total_count=\"69\"/></taxon><taxon self_count=\"0\" tax_id=\"186804\" rank=\"family\" name=\"Peptostreptococcaceae\" total_count=\"5\"><taxon self_count=\"0\" tax_id=\"44259\" rank=\"genus\" name=\"Filifactor\" total_count=\"5\"><taxon self_count=\"0\" tax_id=\"143361\" rank=\"species\" name=\"Filifactor alocis\" total_count=\"5\"><taxon self_count=\"5\" tax_id=\"546269\" name=\"Filifactor alocis ATCC 35896\" total_count=\"5\"/></taxon></taxon></taxon></taxon></taxon><taxon self_count=\"0\" tax_id=\"1737404\" rank=\"class\" name=\"Tissierellia\" total_count=\"5\"><taxon self_count=\"0\" tax_id=\"1737405\" rank=\"order\" name=\"Tissierellales\" total_count=\"5\"><taxon self_count=\"0\" tax_id=\"1570339\" rank=\"family\" name=\"Peptoniphilaceae\" total_count=\"5\"><taxon self_count=\"5\" tax_id=\"162289\" rank=\"genus\" name=\"Peptoniphilus\" total_count=\"5\"/></taxon></taxon></taxon></taxon><taxon self_count=\"0\" tax_id=\"544448\" rank=\"phylum\" name=\"Tenericutes\" total_count=\"1\"><taxon self_count=\"0\" tax_id=\"31969\" rank=\"class\" name=\"Mollicutes\" total_count=\"1\"><taxon self_count=\"0\" tax_id=\"2085\" rank=\"order\" name=\"Mycoplasmatales\" total_count=\"1\"><taxon self_count=\"0\" tax_id=\"2092\" rank=\"family\" name=\"Mycoplasmataceae\" total_count=\"1\"><taxon self_count=\"0\" tax_id=\"2093\" rank=\"genus\" name=\"Mycoplasma\" total_count=\"1\"><taxon self_count=\"0\" tax_id=\"28227\" rank=\"species\" name=\"Mycoplasma penetrans\" total_count=\"1\"><taxon self_count=\"1\" tax_id=\"272633\" name=\"Mycoplasma penetrans HF-2\" total_count=\"1\"/></taxon></taxon></taxon></taxon></taxon></taxon></taxon><taxon self_count=\"0\" tax_id=\"1783270\" name=\"FCB group\" total_count=\"16\"><taxon self_count=\"0\" tax_id=\"68336\" name=\"Bacteroidetes/Chlorobi group\" total_count=\"16\"><taxon self_count=\"0\" tax_id=\"976\" rank=\"phylum\" name=\"Bacteroidetes\" total_count=\"16\"><taxon self_count=\"0\" tax_id=\"200643\" rank=\"class\" name=\"Bacteroidia\" total_count=\"16\"><taxon self_count=\"15\" tax_id=\"171549\" rank=\"order\" name=\"Bacteroidales\" total_count=\"16\"><taxon self_count=\"0\" tax_id=\"171551\" rank=\"family\" name=\"Porphyromonadaceae\" total_count=\"1\"><taxon self_count=\"0\" tax_id=\"836\" rank=\"genus\" name=\"Porphyromonas\" total_count=\"1\"><taxon self_count=\"1\" tax_id=\"281920\" rank=\"species\" name=\"Porphyromonas uenonis\" total_count=\"1\"/></taxon></taxon></taxon></taxon></taxon></taxon></taxon><taxon self_count=\"0\" tax_id=\"1224\" rank=\"phylum\" name=\"Proteobacteria\" total_count=\"1\"><taxon self_count=\"0\" tax_id=\"28211\" rank=\"class\" name=\"Alphaproteobacteria\" total_count=\"1\"><taxon self_count=\"0\" tax_id=\"766\" rank=\"order\" name=\"Rickettsiales\" total_count=\"1\"><taxon self_count=\"0\" tax_id=\"942\" rank=\"family\" name=\"Anaplasmataceae\" total_count=\"1\"><taxon self_count=\"0\" tax_id=\"943\" rank=\"genus\" name=\"Ehrlichia\" total_count=\"1\"><taxon self_count=\"0\" tax_id=\"106178\" rank=\"species group\" name=\"canis group\" total_count=\"1\"><taxon self_count=\"1\" tax_id=\"1242993\" rank=\"species\" name=\"Ehrlichia minasensis\" total_count=\"1\"/></taxon></taxon></taxon></taxon></taxon></taxon><taxon self_count=\"0\" tax_id=\"203691\" rank=\"phylum\" name=\"Spirochaetes\" total_count=\"3\"><taxon self_count=\"0\" tax_id=\"203692\" rank=\"class\" name=\"Spirochaetia\" total_count=\"3\"><taxon self_count=\"0\" tax_id=\"136\" rank=\"order\" name=\"Spirochaetales\" total_count=\"3\"><taxon self_count=\"0\" tax_id=\"137\" rank=\"family\" name=\"Spirochaetaceae\" total_count=\"3\"><taxon self_count=\"0\" tax_id=\"157\" rank=\"genus\" name=\"Treponema\" total_count=\"3\"><taxon self_count=\"0\" tax_id=\"167\" rank=\"species\" name=\"Treponema succinifaciens\" total_count=\"3\"><taxon self_count=\"3\" tax_id=\"869209\" name=\"Treponema succinifaciens DSM 2489\" total_count=\"3\"/></taxon></taxon></taxon></taxon></taxon></taxon><taxon self_count=\"0\" tax_id=\"74152\" rank=\"phylum\" name=\"Elusimicrobia\" total_count=\"2\"><taxon self_count=\"0\" tax_id=\"641853\" rank=\"class\" name=\"Elusimicrobia\" total_count=\"2\"><taxon self_count=\"0\" tax_id=\"641854\" rank=\"order\" name=\"Elusimicrobiales\" total_count=\"2\"><taxon self_count=\"0\" tax_id=\"641876\" rank=\"family\" name=\"Elusimicrobiaceae\" total_count=\"2\"><taxon self_count=\"0\" tax_id=\"423604\" rank=\"genus\" name=\"Elusimicrobium\" total_count=\"2\"><taxon self_count=\"0\" tax_id=\"423605\" rank=\"species\" name=\"Elusimicrobium minutum\" total_count=\"2\"><taxon self_count=\"2\" tax_id=\"445932\" name=\"Elusimicrobium minutum Pei191\" total_count=\"2\"/></taxon></taxon></taxon></taxon></taxon></taxon></taxon><taxon self_count=\"0\" tax_id=\"2759\" rank=\"superkingdom\" name=\"Eukaryota\" total_count=\"44\"><taxon self_count=\"0\" tax_id=\"33154\" name=\"Opisthokonta\" total_count=\"44\"><taxon self_count=\"0\" tax_id=\"4751\" rank=\"kingdom\" name=\"Fungi\" total_count=\"44\"><taxon self_count=\"0\" tax_id=\"451864\" rank=\"subkingdom\" name=\"Dikarya\" total_count=\"44\"><taxon self_count=\"0\" tax_id=\"4890\" rank=\"phylum\" name=\"Ascomycota\" total_count=\"44\"><taxon self_count=\"0\" tax_id=\"716545\" name=\"saccharomyceta\" total_count=\"44\"><taxon self_count=\"0\" tax_id=\"147538\" rank=\"subphylum\" name=\"Pezizomycotina\" total_count=\"44\"><taxon self_count=\"0\" tax_id=\"716546\" name=\"leotiomyceta\" total_count=\"44\"><taxon self_count=\"0\" tax_id=\"147545\" rank=\"class\" name=\"Eurotiomycetes\" total_count=\"44\"><taxon self_count=\"0\" tax_id=\"451871\" rank=\"subclass\" name=\"Eurotiomycetidae\" total_count=\"44\"><taxon self_count=\"0\" tax_id=\"5042\" rank=\"order\" name=\"Eurotiales\" total_count=\"44\"><taxon self_count=\"0\" tax_id=\"1131492\" rank=\"family\" name=\"Aspergillaceae\" total_count=\"44\"><taxon self_count=\"44\" tax_id=\"5052\" rank=\"genus\" name=\"Aspergillus\" total_count=\"44\"/></taxon></taxon></taxon></taxon></taxon></taxon></taxon></taxon></taxon></taxon></taxon></taxon></taxon><taxon self_count=\"0\" tax_id=\"10239\" rank=\"superkingdom\" name=\"Viruses\" total_count=\"2\"><taxon self_count=\"0\" tax_id=\"29258\" name=\"ssDNA viruses\" total_count=\"2\"><taxon self_count=\"0\" tax_id=\"10841\" rank=\"family\" name=\"Microviridae\" total_count=\"2\"><taxon self_count=\"0\" tax_id=\"1910950\" rank=\"subfamily\" name=\"Bullavirinae\" total_count=\"2\"><taxon self_count=\"0\" tax_id=\"1910954\" rank=\"genus\" name=\"Phix174microvirus\" total_count=\"2\"><taxon self_count=\"0\" tax_id=\"1910975\" name=\"unclassified Phix174microvirus\" total_count=\"2\"><taxon self_count=\"2\" tax_id=\"374840\" rank=\"species\" name=\"Enterobacteria phage phiX174 sensu lato\" total_count=\"2\"/></taxon></taxon></taxon></taxon></taxon></taxon></tax_analysis><Lineage><N>unclassified sequences</N><N>metagenomes</N><N>organismal metagenomes</N><N taxid=\"408170\">human gut metagenome</N></Lineage></RUN></RUN_SET></EXPERIMENT_PACKAGE>\\n</EXPERIMENT_PACKAGE_SET>\\n'"
      ]
     },
     "execution_count": 13,
     "metadata": {},
     "output_type": "execute_result"
    }
   ],
   "source": [
    "handle3 = Entrez.efetch(db=\"sra\", id=\"3784383\", rettype=\"fastq\", retmode=\"text\")\n",
    "record3 = handle3.read()\n",
    "record3"
   ]
  },
  {
   "cell_type": "code",
   "execution_count": 60,
   "metadata": {},
   "outputs": [],
   "source": [
    "import srapy\n",
    "import sys\n",
    "from os import path\n",
    "from sys import stderr\n",
    "from Bio import Entrez\n",
    "from os import path\n",
    "from progressbar import (\n",
    "    Bar,\n",
    "    Counter,\n",
    "    ETA,\n",
    "    FileTransferSpeed,\n",
    "    Percentage,\n",
    "    ProgressBar,\n",
    ")\n",
    "\n",
    "\n",
    "def download_run(sra_id, outdir='.', stream=stderr, fmt='{acc}~{name}.sra'):\n",
    "    '''Downloads run with SRA run uid ``sra_id`` to ``outdir``'''\n",
    "    if stream is not None:\n",
    "        print('Retrieving run info for run', sra_id, end='... ', file=stream)\n",
    "    run_info = srapy.parse_run(sra_id)\n",
    "    if stream is not None:\n",
    "        print('done.', file=stream)\n",
    "    url_template = ('http://trace.ncbi.nlm.nih.gov/sra/sra-instant/'\n",
    "                    'reads/ByRun/sra/{leading3}/{leading6}/{all}/{all}.sra')\n",
    "    run = run_info['accession']\n",
    "    run_url = url_template.format(leading3=run[:3], leading6=run[:6], all=run)\n",
    "    outfile = fmt.format(acc=run, name=run_info['name'], id=sra_id)\n",
    "    outpath = path.join(outdir, outfile)\n",
    "    srapy.urlretrieve(run_url, outpath)"
   ]
  },
  {
   "cell_type": "code",
   "execution_count": 61,
   "metadata": {},
   "outputs": [
    {
     "name": "stderr",
     "output_type": "stream",
     "text": [
      "Downloading run\n",
      "Retrieving run info for run 3784394... done.\n",
      "Downloading  rawdata/ERR1865080~SAMEA18628918.sra, "
     ]
    },
    {
     "name": "stdout",
     "output_type": "stream",
     "text": [
      "HTTP Error 404: Not Found\n",
      "HTTP Error 404: Not Found\n",
      "HTTP Error 404: Not Found\n"
     ]
    },
    {
     "ename": "RuntimeError",
     "evalue": "('Download of', 'http://trace.ncbi.nlm.nih.gov/sra/sra-instant/reads/ByRun/sra/ERR/ERR186/ERR1865080/ERR1865080.sra', 'failed')",
     "output_type": "error",
     "traceback": [
      "\u001b[0;31m---------------------------------------------------------------------------\u001b[0m",
      "\u001b[0;31mRuntimeError\u001b[0m                              Traceback (most recent call last)",
      "\u001b[0;32m<ipython-input-61-4e7a60d5057b>\u001b[0m in \u001b[0;36m<module>\u001b[0;34m()\u001b[0m\n\u001b[1;32m      6\u001b[0m \u001b[0;32mfor\u001b[0m \u001b[0msra_id\u001b[0m \u001b[0;32min\u001b[0m \u001b[0mrecords\u001b[0m\u001b[0;34m:\u001b[0m\u001b[0;34m\u001b[0m\u001b[0m\n\u001b[1;32m      7\u001b[0m     \u001b[0mprint\u001b[0m\u001b[0;34m(\u001b[0m\u001b[0;34m\"Downloading run\"\u001b[0m\u001b[0;34m,\u001b[0m \u001b[0mfile\u001b[0m\u001b[0;34m=\u001b[0m\u001b[0msys\u001b[0m\u001b[0;34m.\u001b[0m\u001b[0mstderr\u001b[0m\u001b[0;34m)\u001b[0m\u001b[0;34m\u001b[0m\u001b[0m\n\u001b[0;32m----> 8\u001b[0;31m     \u001b[0mdownload_run\u001b[0m\u001b[0;34m(\u001b[0m\u001b[0msra_id\u001b[0m\u001b[0;34m,\u001b[0m \u001b[0moutdir\u001b[0m\u001b[0;34m=\u001b[0m\u001b[0moutdir\u001b[0m\u001b[0;34m,\u001b[0m \u001b[0mfmt\u001b[0m\u001b[0;34m=\u001b[0m\u001b[0mfname_fmt\u001b[0m\u001b[0;34m)\u001b[0m\u001b[0;34m\u001b[0m\u001b[0m\n\u001b[0m\u001b[1;32m      9\u001b[0m     \u001b[0mprint\u001b[0m\u001b[0;34m(\u001b[0m\u001b[0mfile\u001b[0m\u001b[0;34m=\u001b[0m\u001b[0msys\u001b[0m\u001b[0;34m.\u001b[0m\u001b[0mstderr\u001b[0m\u001b[0;34m)\u001b[0m  \u001b[0;31m# Extra newline\u001b[0m\u001b[0;34m\u001b[0m\u001b[0m\n",
      "\u001b[0;32m<ipython-input-60-0769174e3df6>\u001b[0m in \u001b[0;36mdownload_run\u001b[0;34m(sra_id, outdir, stream, fmt)\u001b[0m\n\u001b[1;32m     28\u001b[0m     \u001b[0moutfile\u001b[0m \u001b[0;34m=\u001b[0m \u001b[0mfmt\u001b[0m\u001b[0;34m.\u001b[0m\u001b[0mformat\u001b[0m\u001b[0;34m(\u001b[0m\u001b[0macc\u001b[0m\u001b[0;34m=\u001b[0m\u001b[0mrun\u001b[0m\u001b[0;34m,\u001b[0m \u001b[0mname\u001b[0m\u001b[0;34m=\u001b[0m\u001b[0mrun_info\u001b[0m\u001b[0;34m[\u001b[0m\u001b[0;34m'name'\u001b[0m\u001b[0;34m]\u001b[0m\u001b[0;34m,\u001b[0m \u001b[0mid\u001b[0m\u001b[0;34m=\u001b[0m\u001b[0msra_id\u001b[0m\u001b[0;34m)\u001b[0m\u001b[0;34m\u001b[0m\u001b[0m\n\u001b[1;32m     29\u001b[0m     \u001b[0moutpath\u001b[0m \u001b[0;34m=\u001b[0m \u001b[0mpath\u001b[0m\u001b[0;34m.\u001b[0m\u001b[0mjoin\u001b[0m\u001b[0;34m(\u001b[0m\u001b[0moutdir\u001b[0m\u001b[0;34m,\u001b[0m \u001b[0moutfile\u001b[0m\u001b[0;34m)\u001b[0m\u001b[0;34m\u001b[0m\u001b[0m\n\u001b[0;32m---> 30\u001b[0;31m     \u001b[0msrapy\u001b[0m\u001b[0;34m.\u001b[0m\u001b[0murlretrieve\u001b[0m\u001b[0;34m(\u001b[0m\u001b[0mrun_url\u001b[0m\u001b[0;34m,\u001b[0m \u001b[0moutpath\u001b[0m\u001b[0;34m)\u001b[0m\u001b[0;34m\u001b[0m\u001b[0m\n\u001b[0m",
      "\u001b[0;32m/srv/conda/lib/python3.6/site-packages/srapy/__init__.py\u001b[0m in \u001b[0;36murlretrieve\u001b[0;34m(url, filename, stream, retries)\u001b[0m\n\u001b[1;32m     60\u001b[0m             \u001b[0mprint\u001b[0m\u001b[0;34m(\u001b[0m\u001b[0mstr\u001b[0m\u001b[0;34m(\u001b[0m\u001b[0mexc\u001b[0m\u001b[0;34m)\u001b[0m\u001b[0;34m)\u001b[0m\u001b[0;34m\u001b[0m\u001b[0m\n\u001b[1;32m     61\u001b[0m     \u001b[0;32mif\u001b[0m \u001b[0murlhandle\u001b[0m \u001b[0;32mis\u001b[0m \u001b[0;32mNone\u001b[0m\u001b[0;34m:\u001b[0m\u001b[0;34m\u001b[0m\u001b[0m\n\u001b[0;32m---> 62\u001b[0;31m         \u001b[0;32mraise\u001b[0m \u001b[0mRuntimeError\u001b[0m\u001b[0;34m(\u001b[0m\u001b[0;34m\"Download of\"\u001b[0m\u001b[0;34m,\u001b[0m \u001b[0murl\u001b[0m\u001b[0;34m,\u001b[0m \u001b[0;34m\"failed\"\u001b[0m\u001b[0;34m)\u001b[0m\u001b[0;34m\u001b[0m\u001b[0m\n\u001b[0m\u001b[1;32m     63\u001b[0m \u001b[0;34m\u001b[0m\u001b[0m\n\u001b[1;32m     64\u001b[0m     \u001b[0;31m# Get metadata, check if we need to download\u001b[0m\u001b[0;34m\u001b[0m\u001b[0;34m\u001b[0m\u001b[0m\n",
      "\u001b[0;31mRuntimeError\u001b[0m: ('Download of', 'http://trace.ncbi.nlm.nih.gov/sra/sra-instant/reads/ByRun/sra/ERR/ERR186/ERR1865080/ERR1865080.sra', 'failed')"
     ]
    }
   ],
   "source": [
    "Entrez.email = \"kenneth.brewer@yale.edu\"\n",
    "outdir=\"rawdata\"\n",
    "fname_fmt=\"{acc}~{name}.sra\"\n",
    "records = srapy.esearch_ids(db=\"SRA\", term=\"ERP019762\")\n",
    "\n",
    "for sra_id in records:\n",
    "    print(\"Downloading run\", file=sys.stderr)\n",
    "    download_run(sra_id, outdir=outdir, fmt=fname_fmt)\n",
    "    print(file=sys.stderr)  # Extra newline"
   ]
  },
  {
   "cell_type": "code",
   "execution_count": 43,
   "metadata": {},
   "outputs": [],
   "source": []
  },
  {
   "cell_type": "code",
   "execution_count": 24,
   "metadata": {},
   "outputs": [
    {
     "ename": "TypeError",
     "evalue": "object of type 'map' has no len()",
     "output_type": "error",
     "traceback": [
      "\u001b[0;31m---------------------------------------------------------------------------\u001b[0m",
      "\u001b[0;31mTypeError\u001b[0m                                 Traceback (most recent call last)",
      "\u001b[0;32m<ipython-input-24-29425861436e>\u001b[0m in \u001b[0;36m<module>\u001b[0;34m()\u001b[0m\n\u001b[1;32m      1\u001b[0m \u001b[0;32mfor\u001b[0m \u001b[0midx\u001b[0m\u001b[0;34m,\u001b[0m \u001b[0msra_id\u001b[0m \u001b[0;32min\u001b[0m \u001b[0menumerate\u001b[0m\u001b[0;34m(\u001b[0m\u001b[0mlist\u001b[0m\u001b[0;34m(\u001b[0m\u001b[0mrecords\u001b[0m\u001b[0;34m)\u001b[0m\u001b[0;34m)\u001b[0m\u001b[0;34m:\u001b[0m\u001b[0;34m\u001b[0m\u001b[0m\n\u001b[0;32m----> 2\u001b[0;31m     \u001b[0mprint\u001b[0m\u001b[0;34m(\u001b[0m\u001b[0;34m\"Downloading run\"\u001b[0m\u001b[0;34m,\u001b[0m \u001b[0midx\u001b[0m \u001b[0;34m+\u001b[0m \u001b[0;36m1\u001b[0m\u001b[0;34m,\u001b[0m \u001b[0;34m\"of\"\u001b[0m\u001b[0;34m,\u001b[0m \u001b[0mlen\u001b[0m\u001b[0;34m(\u001b[0m\u001b[0mruns\u001b[0m\u001b[0;34m)\u001b[0m\u001b[0;34m,\u001b[0m \u001b[0mfile\u001b[0m\u001b[0;34m=\u001b[0m\u001b[0msys\u001b[0m\u001b[0;34m.\u001b[0m\u001b[0mstderr\u001b[0m\u001b[0;34m)\u001b[0m\u001b[0;34m\u001b[0m\u001b[0m\n\u001b[0m\u001b[1;32m      3\u001b[0m     \u001b[0mdownload_run\u001b[0m\u001b[0;34m(\u001b[0m\u001b[0msra_id\u001b[0m\u001b[0;34m,\u001b[0m \u001b[0moutdir\u001b[0m\u001b[0;34m=\u001b[0m\u001b[0moutdir\u001b[0m\u001b[0;34m,\u001b[0m \u001b[0mfmt\u001b[0m\u001b[0;34m=\u001b[0m\u001b[0mfname_fmt\u001b[0m\u001b[0;34m)\u001b[0m\u001b[0;34m\u001b[0m\u001b[0m\n\u001b[1;32m      4\u001b[0m     \u001b[0mprint\u001b[0m\u001b[0;34m(\u001b[0m\u001b[0mfile\u001b[0m\u001b[0;34m=\u001b[0m\u001b[0msys\u001b[0m\u001b[0;34m.\u001b[0m\u001b[0mstderr\u001b[0m\u001b[0;34m)\u001b[0m  \u001b[0;31m# Extra newline\u001b[0m\u001b[0;34m\u001b[0m\u001b[0m\n",
      "\u001b[0;31mTypeError\u001b[0m: object of type 'map' has no len()"
     ]
    }
   ],
   "source": [
    "for sra_id in records:\n",
    "    print(\"Downloading run\", file=sys.stderr)\n",
    "    download_run(sra_id, outdir=outdir, fmt=fname_fmt)\n",
    "    print(file=sys.stderr)  # Extra newline"
   ]
  },
  {
   "cell_type": "code",
   "execution_count": null,
   "metadata": {},
   "outputs": [],
   "source": []
  }
 ],
 "metadata": {
  "kernelspec": {
   "display_name": "Python 3",
   "language": "python",
   "name": "python3"
  },
  "language_info": {
   "codemirror_mode": {
    "name": "ipython",
    "version": 3
   },
   "file_extension": ".py",
   "mimetype": "text/x-python",
   "name": "python",
   "nbconvert_exporter": "python",
   "pygments_lexer": "ipython3",
   "version": "3.6.5"
  }
 },
 "nbformat": 4,
 "nbformat_minor": 2
}
